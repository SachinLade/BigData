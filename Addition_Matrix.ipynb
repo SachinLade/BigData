{
  "nbformat": 4,
  "nbformat_minor": 0,
  "metadata": {
    "colab": {
      "provenance": [],
      "authorship_tag": "ABX9TyOTijPVZWi1eg7Y8MgArgdl",
      "include_colab_link": true
    },
    "kernelspec": {
      "name": "python3",
      "display_name": "Python 3"
    },
    "language_info": {
      "name": "python"
    }
  },
  "cells": [
    {
      "cell_type": "markdown",
      "metadata": {
        "id": "view-in-github",
        "colab_type": "text"
      },
      "source": [
        "<a href=\"https://colab.research.google.com/github/SachinLade/BigData/blob/main/Addition_Matrix.ipynb\" target=\"_parent\"><img src=\"https://colab.research.google.com/assets/colab-badge.svg\" alt=\"Open In Colab\"/></a>"
      ]
    },
    {
      "cell_type": "code",
      "execution_count": null,
      "metadata": {
        "id": "x8MH-loVNaYn"
      },
      "outputs": [],
      "source": [
        "!pip install -q pyspark\n",
        "\n",
        "!wget -q 'https://drive.google.com/uc?export=download&id=1wAdLRbT_YgWJ1XRl39JM-lKwJpewdwyM' -O 'Sample.txt'\n",
        "\n",
        "from pyspark import SparkContext, SparkConf\n",
        "from pyspark.sql import SparkSession\n",
        "\n",
        "conf = SparkConf().setAppName('SparkWordCount')\n",
        "sc = SparkContext.getOrCreate(conf = conf)\n",
        "\n",
        "sqlContext = SparkSession.builder\\\n",
        "        .master(\"local\")\\\n",
        "        .appName(\"Colab\")\\\n",
        "        .config('spark.ui.port', '4050')\\\n",
        "        .getOrCreate()"
      ]
    },
    {
      "cell_type": "code",
      "source": [
        "import numpy as np\n",
        "input_file=sc.textFile(\"matrixaddition.txt\")\n",
        "input_file.collect()"
      ],
      "metadata": {
        "id": "LRR_ykbIlzVk"
      },
      "execution_count": null,
      "outputs": []
    },
    {
      "cell_type": "code",
      "source": [
        "M = input_file.filter(lambda x: x.split()[0] == 'M').map(lambda x: ((x.split()[1], x.split()[2]), int(x.split()[3])))\n",
        "N = input_file.filter(lambda x: x.split()[0] == 'N').map(lambda x: ((x.split()[1], x.split()[2]), int(x.split()[3])))\n",
        "M.collect()[:10]"
      ],
      "metadata": {
        "id": "L4cijccAg0PN"
      },
      "execution_count": null,
      "outputs": []
    },
    {
      "cell_type": "code",
      "source": [
        "N.collect()[:10]"
      ],
      "metadata": {
        "id": "rjCcxHUfqyJF"
      },
      "execution_count": null,
      "outputs": []
    },
    {
      "cell_type": "code",
      "source": [
        "\n",
        "joined_matrix = M.union(N)\n",
        "\n",
        "res_matrix = joined_matrix.reduceByKey(lambda x,y:x+y).sortBy(lambda x:x)\n",
        "res_matrix.collect()[:10]"
      ],
      "metadata": {
        "id": "Jmo8hJaVccYo"
      },
      "execution_count": null,
      "outputs": []
    },
    {
      "cell_type": "code",
      "source": [],
      "metadata": {
        "id": "tNUefnWoTYWj"
      },
      "execution_count": null,
      "outputs": []
    },
    {
      "cell_type": "code",
      "source": [],
      "metadata": {
        "id": "wuRQgzcRTwKx"
      },
      "execution_count": null,
      "outputs": []
    }
  ]
}